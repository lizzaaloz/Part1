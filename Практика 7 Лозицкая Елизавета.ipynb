{
  "cells": [
    {
      "cell_type": "markdown",
      "metadata": {
        "id": "ZLVI_WIcuT56"
      },
      "source": [
        "ФИО:"
      ]
    },
    {
      "cell_type": "code",
      "execution_count": null,
      "metadata": {
        "id": "3AfG_Tal0P2S"
      },
      "outputs": [],
      "source": [
        "Лозицкая Елизавета Никитична\n"
      ]
    },
    {
      "cell_type": "markdown",
      "metadata": {
        "id": "FtjnLNIKzfMZ"
      },
      "source": [
        "## Задание 1. HTTP-запросы, ответы и погода\n",
        "\n",
        "Напишите HTTP-запрос для получения информации о погоде в введенном городе из API. Можно использовать API: https://open-meteo.com/. Используйте метод GET.\n",
        "\n",
        "\n",
        "Ввод\n",
        "```\n",
        "56.50, 60.35\n",
        "```\n",
        "\n",
        "Вывод\n",
        "```\n",
        "Сегодня (1.11) погода 20 ◦С, нет осадков, туман\n",
        "```\n",
        "\n",
        "\n",
        "\n"
      ]
    },
    {
      "cell_type": "code",
      "execution_count": null,
      "metadata": {
        "colab": {
          "base_uri": "https://localhost:8080/"
        },
        "id": "5Mbs40_buVRV",
        "outputId": "3e5e8983-ebc8-4ca1-843a-492c917d0886"
      },
      "outputs": [
        {
          "name": "stdout",
          "output_type": "stream",
          "text": [
            "56.50, 60.35\n",
            "Сегодня (2024-11-01) погода 0.3 ◦С, вероятность дождя 0.0\n"
          ]
        }
      ],
      "source": [
        "import requests\n",
        "\n",
        "\n",
        "weather_parameters = input().split(', ')\n",
        "res=requests.get(f\"https://api.open-meteo.com/v1/forecast?latitude={weather_parameters[0]}&longitude={weather_parameters[1]}&current=temperature_2m,rain\").json()\n",
        "data = (res[\"current\"]['time']).split('T')[0]\n",
        "temp = (res[\"current\"][\"temperature_2m\"])\n",
        "rain = (res[\"current\"][\"rain\"])\n",
        "\n",
        "print(f\"Сегодня ({data}) погода {temp} ◦С, вероятность дождя {rain}\")"
      ]
    },
    {
      "cell_type": "markdown",
      "metadata": {
        "id": "oZ1guEbl0PZm"
      },
      "source": [
        "## Задание 2. HTTP-запросы, ответы и покемоны\n",
        "\n",
        "\n",
        "Создайте код программы, которая будет взаимодействовать с API, со следующим функионалом:\n",
        "\n",
        "1. Используя метод GET, отправьте запрос на endpoint /pokemon, чтобы получить список первых 20 покемонов\n",
        "\n",
        "2. Извлеките имена покемонов из ответа и выведите их списком\n",
        "\n",
        "3. Введите с помощью input() название одного из покемонов\n",
        "\n",
        "\n",
        "```\n",
        "Имя покемона: clefairy\n",
        "```\n",
        "\n",
        "\n",
        "\n",
        "4. Отправьте GET-запрос, чтобы получить полную информацию о выбранном покемоне\n",
        "\n",
        "5. Извлеките и выведите следующие данные о введенном покемоне:\n",
        "\n",
        "     • Имя\n",
        "\n",
        "     • Тип\n",
        "\n",
        "     • Вес\n",
        "\n",
        "     • Рост\n",
        "\n",
        "     • Способности\n",
        "\n",
        "Используйте PokéAPI (https://pokeapi.co/), который предоставляет информацию о покемонах, их характеристиках, типах и другую информацию."
      ]
    },
    {
      "cell_type": "code",
      "execution_count": null,
      "metadata": {
        "colab": {
          "background_save": true,
          "base_uri": "https://localhost:8080/"
        },
        "id": "JkFmivjp25NL",
        "outputId": "aa0bb158-a256-404b-9b11-88be154dac43"
      },
      "outputs": [
        {
          "name": "stdout",
          "output_type": "stream",
          "text": [
            "0. bulbasaur\n",
            "1. ivysaur\n",
            "2. venusaur\n",
            "3. charmander\n",
            "4. charmeleon\n",
            "5. charizard\n",
            "6. squirtle\n",
            "7. wartortle\n",
            "8. blastoise\n",
            "9. caterpie\n",
            "10. metapod\n",
            "11. butterfree\n",
            "12. weedle\n",
            "13. kakuna\n",
            "14. beedrill\n",
            "15. pidgey\n",
            "16. pidgeotto\n",
            "17. pidgeot\n",
            "18. rattata\n"
          ]
        }
      ],
      "source": [
        "import requests\n",
        "\n",
        "\n",
        "res=requests.get(f\"https://pokeapi.co/api/v2/pokemon\").json()\n",
        "for i in range(0,19):\n",
        "  name = res['results'][i][\"name\"]\n",
        "  print(str(i)+\".\", name)\n",
        "\n",
        "pokemons = input()\n",
        "res_about1 = requests.get(f\"https://pokeapi.co/api/v2/pokemon/{pokemons}/\").json()\n",
        "weight = res_about1[\"weight\"]\n",
        "height = res_about1[\"height\"]\n",
        "\n",
        "print(f\"Имя ({name})\", \"Вес:\", weight, \"Рост:\", height)\n"
      ]
    },
    {
      "cell_type": "markdown",
      "metadata": {
        "id": "h194KTer1-B3"
      },
      "source": [
        "## Задание 3. HTTP-запросы, ответы и посты\n",
        "\n",
        "Создайте программу, которая будет взаимодействовать с JSONPlaceholder API, реализуя следующие функции:\n",
        "\n",
        "1. Реализуйте функцию, которая выполняет GET-запрос к https://jsonplaceholder.typicode.com/posts и возвращает список постов в формате JSON\n",
        "\n",
        "2. Реализуйте функцию, котороая получает вводимое ID поста, выполняет GET-запрос по ID и возвращает данные поста в формате JSON\n",
        "\n",
        "3. Реализуйте функцию, которая выполняет обработку JSON из пункта 2 и выводит всю важную информацию в консоль"
      ]
    },
    {
      "cell_type": "code",
      "execution_count": null,
      "metadata": {
        "colab": {
          "base_uri": "https://localhost:8080/",
          "height": 193
        },
        "id": "YANQx4o258Zn",
        "outputId": "b72f47d7-fd58-4e3f-8c01-5931d639355a"
      },
      "outputs": [
        {
          "ename": "NameError",
          "evalue": "name 'tittle' is not defined",
          "output_type": "error",
          "traceback": [
            "\u001b[0;31m---------------------------------------------------------------------------\u001b[0m",
            "\u001b[0;31mNameError\u001b[0m                                 Traceback (most recent call last)",
            "\u001b[0;32m<ipython-input-71-88d5761f6e84>\u001b[0m in \u001b[0;36m<cell line: 5>\u001b[0;34m()\u001b[0m\n\u001b[1;32m      4\u001b[0m \u001b[0mres\u001b[0m\u001b[0;34m=\u001b[0m\u001b[0mrequests\u001b[0m\u001b[0;34m.\u001b[0m\u001b[0mget\u001b[0m\u001b[0;34m(\u001b[0m\u001b[0;34mf\" https://jsonplaceholder.typicode.com/posts\"\u001b[0m\u001b[0;34m)\u001b[0m\u001b[0;34m.\u001b[0m\u001b[0mjson\u001b[0m\u001b[0;34m(\u001b[0m\u001b[0;34m)\u001b[0m\u001b[0;34m\u001b[0m\u001b[0;34m\u001b[0m\u001b[0m\n\u001b[1;32m      5\u001b[0m \u001b[0;32mfor\u001b[0m \u001b[0mi\u001b[0m \u001b[0;32min\u001b[0m \u001b[0mrange\u001b[0m\u001b[0;34m(\u001b[0m\u001b[0;36m1\u001b[0m\u001b[0;34m,\u001b[0m\u001b[0;36m100\u001b[0m\u001b[0;34m)\u001b[0m\u001b[0;34m:\u001b[0m\u001b[0;34m\u001b[0m\u001b[0;34m\u001b[0m\u001b[0m\n\u001b[0;32m----> 6\u001b[0;31m   \u001b[0mposts\u001b[0m\u001b[0;34m=\u001b[0m\u001b[0mres\u001b[0m\u001b[0;34m[\u001b[0m\u001b[0mtittle\u001b[0m\u001b[0;34m]\u001b[0m\u001b[0;34m[\u001b[0m\u001b[0mbody\u001b[0m\u001b[0;34m]\u001b[0m\u001b[0;34m\u001b[0m\u001b[0;34m\u001b[0m\u001b[0m\n\u001b[0m\u001b[1;32m      7\u001b[0m \u001b[0mprint\u001b[0m\u001b[0;34m(\u001b[0m\u001b[0mstr\u001b[0m\u001b[0;34m(\u001b[0m\u001b[0mi\u001b[0m\u001b[0;34m)\u001b[0m\u001b[0;34m,\u001b[0m\u001b[0mname\u001b[0m\u001b[0;34m)\u001b[0m\u001b[0;34m\u001b[0m\u001b[0;34m\u001b[0m\u001b[0m\n",
            "\u001b[0;31mNameError\u001b[0m: name 'tittle' is not defined"
          ]
        }
      ],
      "source": [
        "import requests\n",
        "\n",
        "\n",
        "res=requests.get(f\" https://jsonplaceholder.typicode.com/posts\").json()\n",
        "for i in range(1,100):\n",
        "  posts=res[tittle][body]\n",
        "print(str(i),name)"
      ]
    },
    {
      "cell_type": "markdown",
      "metadata": {
        "id": "4MjiaxDM58ta"
      },
      "source": [
        "## Задание 4. HTTP-запросы, ответы и работа с постами\n",
        "\n",
        "Создайте программу, которая будет взаимодействовать с JSONPlaceholder API (из предыдущего задания), реализуя новые функции:\n",
        "\n",
        "1. Реализуйте функцию, которая принимает заголовок, содержимое и ID пользователя (информация вводится с помощью input()), выполняет POST-запрос для создания нового поста и возвращает информацию о созданном посте в формате JSON\n",
        "\n",
        "\n",
        "```\n",
        "Заголовок: Новый пост\n",
        "Содержимое поста: Тут должно находиться содержимое нового поста...\n",
        "ID пользователя: 10\n",
        "```\n",
        "\n",
        "\n",
        "\n",
        "2. Реализуйте функцию, которая принимает ID поста, новый заголовок и новое содержимое, выполняет PUT-запрос и возвращает обновлённый пост в формате JSON\n",
        "\n",
        "3. Реализуйте функцию, которая принимает ID поста, выполняет DELETE-запрос и возвращает статус-код ответа"
      ]
    },
    {
      "cell_type": "code",
      "execution_count": null,
      "metadata": {
        "id": "jZUIdwq96DNl"
      },
      "outputs": [],
      "source": []
    },
    {
      "cell_type": "markdown",
      "metadata": {
        "id": "y0EyPsFQ6mSZ"
      },
      "source": [
        "## Задание 5. HTTP-запросы, ответы и пёсики\n",
        "\n",
        "Создайте программу, которая будет взаимодействовать с Dog API, которая позволит получать список пород собак, вводить несколько пород и получать их фотогрфии.\n",
        "\n",
        "Этапы:\n",
        "\n",
        "1. Создайте функцию, которая использует метод GET и возвращает список всех пород собак в формате нумерованного списка\n",
        "\n",
        "2. Реализуйте возможность ввода нескольких пород собак через запятую\n",
        "\n",
        "\n",
        "```\n",
        "african, chow, dingo\n",
        "```\n",
        "\n",
        "\n",
        "\n",
        "3. Создание функции, которая реализует запрос, возвращает и выводит изображениия собак, породы которых были введены до этого\n",
        "\n",
        "\n",
        "Используйте Dog API (https://dog.ceo/dog-api/), который предоставляет информацию о породах собак и их изображения.\n"
      ]
    },
    {
      "cell_type": "code",
      "execution_count": null,
      "metadata": {
        "id": "CVJx0B9E8au1"
      },
      "outputs": [],
      "source": []
    }
  ],
  "metadata": {
    "colab": {
      "provenance": []
    },
    "kernelspec": {
      "display_name": "Python 3",
      "name": "python3"
    },
    "language_info": {
      "name": "python"
    }
  },
  "nbformat": 4,
  "nbformat_minor": 0
}